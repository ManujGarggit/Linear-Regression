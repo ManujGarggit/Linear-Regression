{
 "cells": [
  {
   "cell_type": "code",
   "execution_count": 6,
   "metadata": {},
   "outputs": [
    {
     "name": "stdout",
     "output_type": "stream",
     "text": [
      "Capacitance is : 4.9999999999997556e-05\n",
      "Resistance is : 100000.00000000493\n"
     ]
    }
   ],
   "source": [
    "import pickle\n",
    "from sklearn.model_selection import train_test_split\n",
    "from sklearn.linear_model import LinearRegression\n",
    "from sklearn.preprocessing import PolynomialFeatures\n",
    "import matplotlib.pyplot as plt\n",
    "import numpy as np\n",
    "import math\n",
    "\n",
    "file = open('capacitor_dataset.pickle','rb')\n",
    "trainData = pickle.load(file)\n",
    "\n",
    "X = trainData[:,0]\n",
    "Y = trainData[:,1]\n",
    "\n",
    "X = X[:,np.newaxis]\n",
    "Y = Y[:,np.newaxis]\n",
    "Y /= 5\n",
    "Y = np.log(Y)\n",
    "\n",
    "model = LinearRegression()\n",
    "Lreg=model.fit(X,Y)\n",
    "\n",
    "W1=Lreg.coef_\n",
    "b=Lreg.intercept_\n",
    "\n",
    "C = math.exp(b)\n",
    "R = 1.0/(-1*W1[0][0]*C)\n",
    "print('Capacitance is :',C)\n",
    "print('Resistance is :',R)\n",
    "\n"
   ]
  }
 ],
 "metadata": {
  "kernelspec": {
   "display_name": "Python 3",
   "language": "python",
   "name": "python3"
  },
  "language_info": {
   "codemirror_mode": {
    "name": "ipython",
    "version": 3
   },
   "file_extension": ".py",
   "mimetype": "text/x-python",
   "name": "python",
   "nbconvert_exporter": "python",
   "pygments_lexer": "ipython3",
   "version": "3.8.10 (default, Nov 14 2022, 12:59:47) \n[GCC 9.4.0]"
  },
  "orig_nbformat": 4,
  "vscode": {
   "interpreter": {
    "hash": "916dbcbb3f70747c44a77c7bcd40155683ae19c65e1c03b4aa3499c5328201f1"
   }
  }
 },
 "nbformat": 4,
 "nbformat_minor": 2
}
